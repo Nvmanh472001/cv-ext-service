{
 "cells": [
  {
   "cell_type": "code",
   "execution_count": 9,
   "metadata": {},
   "outputs": [],
   "source": [
    "from utils.prepost_process import _make_dataloader\n",
    "import os\n",
    "\n",
    "img_dir = 'all_data/eval_img/'\n",
    "fnames = os.listdir(img_dir)\n",
    "\n",
    "image_path = [os.path.join(img_dir, fname) for fname in fnames]"
   ]
  },
  {
   "cell_type": "code",
   "execution_count": 10,
   "metadata": {},
   "outputs": [],
   "source": [
    "dataloader_cfg = load_config_from_yaml(\"config_files/dataloader_config.yaml\")"
   ]
  },
  {
   "cell_type": "code",
   "execution_count": 11,
   "metadata": {},
   "outputs": [],
   "source": [
    "from utils import _make_dataloader\n",
    "\n",
    "dataloader = _make_dataloader(images_list=image_path[:50], dataloader_cfg=dataloader_cfg)"
   ]
  },
  {
   "cell_type": "code",
   "execution_count": 12,
   "metadata": {},
   "outputs": [],
   "source": [
    "def to_numpy(tensor):\n",
    "    return tensor.detach().cpu().numpy() if tensor.requires_grad else tensor.cpu().numpy()"
   ]
  },
  {
   "cell_type": "code",
   "execution_count": 15,
   "metadata": {},
   "outputs": [
    {
     "name": "stdout",
     "output_type": "stream",
     "text": [
      "['ia/9Ctralowh']\n",
      "[':lu-b']\n",
      "['09/2018 - 05/202.']\n",
      "['1/2021-5/2021']\n",
      "['tonuclcqn: cam']\n",
      "['\"Academy af Finahce']\n",
      "['SINCO']\n",
      "['2013-2022\"expeded']\n",
      "['SanAn kids']\n",
      "['Jun 2016']\n",
      "['ls%zlz.']\n",
      "['Male']\n",
      "['Fleaxdhug.FkrixN']\n",
      "['tl:rik11:']\n",
      "['vibuj45@gmnal.com']\n",
      "['30/04/1996']\n",
      "['Date of birth:']\n",
      "['02/07/2001']\n",
      "['0853883827']\n",
      "['WOrK expERUENCE']\n",
      "['3/2021 - 7/2021']\n",
      "['12/2020-04/202\"']\n",
      "['WORK EXPERIENCE']\n",
      "['12/2012']\n",
      "['\"Mxhnrilaiv;']\n",
      "['xddangghagnealcon']\n",
      "['\"Hanoi, Vietnam']\n",
      "['Vipcom JSC']\n",
      "['Nam']\n",
      "['ITJOB']\n",
      "['0388974135']\n",
      "['lilhdicwjulun']\n",
      "['Ncy20/9 . June 2020']\n",
      "['FaigKtH-.g.r:.U:']\n",
      "['2012 - 2016']\n",
      "['Address']\n",
      "['0901629018']\n",
      "['lxnb:2.ur2']\n",
      "['uynt2/3@gmal.com']\n",
      "['TIC-Tac:TOE GAME']\n",
      "['06/2018 - 09/2021']\n",
      "['30/10/2000']\n",
      "['\"Hanoi, Vietnam']\n",
      "['16/09/2000']\n",
      "['2009 - 2018']\n",
      "['Hai Duong, Vedlam']\n",
      "['Garhi3nt1.rrggral.ar']\n",
      "['EDUCATION']\n",
      "['hu8h/H87e3acuh']\n",
      "['3z.lqln,']\n"
     ]
    }
   ],
   "source": [
    "import torch\n",
    "import torch.nn.functional as F\n",
    "import numpy as np\n",
    "import onnxruntime\n",
    "\n",
    "char_group_idx = {}\n",
    "ignore_idx = []\n",
    "ignore_char=''\n",
    "character = opt.character\n",
    "\n",
    "for char in ignore_char:\n",
    "    try: ignore_idx.append(character.index(char)+1)\n",
    "    except: pass\n",
    "batch_max_length = int(opt.imgW/10)\n",
    "\n",
    "for image_tensors in dataloader:\n",
    "    batch_size = image_tensors.size(0)\n",
    "    image = image_tensors.to('cpu')\n",
    "    \n",
    "    ort_session = onnxruntime.InferenceSession(\"./saved_models/recognitionModel.onnx\")\n",
    "    ort_inputs = {ort_session.get_inputs()[0].name: to_numpy(image)}\n",
    "    ort_outs = ort_session.run(None, ort_inputs)\n",
    "    preds = torch.from_numpy(ort_outs[0])\n",
    "    # length_for_pred = torch.IntTensor([opt.batch_max_length] * batch_size).to('cpu')\n",
    "    # text_for_pred = torch.LongTensor(batch_size, opt.batch_max_length + 1).fill_(0).to('cpu')\n",
    "    # preds = model(image, text_for_pred)\n",
    "    preds_size = torch.IntTensor([preds.size(1)] * batch_size)\n",
    "\n",
    "    ####### filter ignore_char, rebalance\n",
    "    # preds_prob = F.softmax(preds, dim=2)\n",
    "    # preds_prob = preds_prob.cpu().detach().numpy()\n",
    "    # preds_prob[:,:,ignore_idx] = 0.\n",
    "    # pred_norm = preds_prob.sum(axis=2)\n",
    "    # preds_prob = preds_prob/np.expand_dims(pred_norm, axis=-1)\n",
    "    # preds_prob = torch.from_numpy(preds_prob).float().to('cpu')\n",
    "\n",
    "    # Select max probabilty (greedy decoding) then decode index to character\n",
    "    _, preds_index = preds.max(2)\n",
    "    preds_index = preds_index.view(-1)\n",
    "    preds_str = converter.decode_greedy(preds_index.data, preds_size.data)\n",
    "    print(preds_str)"
   ]
  },
  {
   "cell_type": "markdown",
   "metadata": {},
   "source": []
  },
  {
   "cell_type": "code",
   "execution_count": null,
   "metadata": {},
   "outputs": [],
   "source": []
  }
 ],
 "metadata": {
  "kernelspec": {
   "display_name": "Python 3.9.6 64-bit ('3.9.6')",
   "language": "python",
   "name": "python3"
  },
  "language_info": {
   "codemirror_mode": {
    "name": "ipython",
    "version": 3
   },
   "file_extension": ".py",
   "mimetype": "text/x-python",
   "name": "python",
   "nbconvert_exporter": "python",
   "pygments_lexer": "ipython3",
   "version": "3.9.6"
  },
  "orig_nbformat": 4,
  "vscode": {
   "interpreter": {
    "hash": "d4e4137ad0b814463a70bb82d69d83e02df7f59a78ae668a2d36f2270425ea85"
   }
  }
 },
 "nbformat": 4,
 "nbformat_minor": 2
}
