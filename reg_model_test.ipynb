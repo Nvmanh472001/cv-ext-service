{
 "cells": [
  {
   "cell_type": "code",
   "execution_count": 1,
   "metadata": {},
   "outputs": [],
   "source": [
    "import yaml\n",
    "\n",
    "config_path = \"./model/configs/reg_cfg.yml\"\n",
    "with open(config_path, 'r') as buf:\n",
    "    config = yaml.safe_load(buf)"
   ]
  },
  {
   "cell_type": "code",
   "execution_count": 2,
   "metadata": {},
   "outputs": [
    {
     "data": {
      "text/plain": [
       "{'vocab': {'chars': 'aAàÀảẢãÃáÁạẠăĂằẰẳẲẵẴắẮặẶâÂầẦẩẨẫẪấẤậẬbBcCdDđĐeEèÈẻẺẽẼéÉẹẸêÊềỀểỂễỄếẾệỆfFgGhHiIìÌỉỈĩĨíÍịỊjJkKlLmMnNoOòÒỏỎõÕóÓọỌôÔồỒổỔỗỖốỐộỘơƠờỜởỞỡỠớỚợỢpPqQrRsStTuUùÙủỦũŨúÚụỤưƯừỪửỬữỮứỨựỰvVwWxXyYỳỲỷỶỹỸýÝỵỴzZ0123456789!\"#$%&\\'()*+,-./:;<=>?@[\\\\]^_`{|}~ '},\n",
       " 'device': 'cpu',\n",
       " 'pretrain': {'id_or_url': '1nTKlEog9YFK74kPyX0qLwCWi60_YHHk4',\n",
       "  'md5': 'efcabaa6d3adfca8e52bda2fd7d2ee04',\n",
       "  'cached': '/tmp/tranformerorc.pth'},\n",
       " 'weights': 'https://drive.google.com/uc?id=1nTKlEog9YFK74kPyX0qLwCWi60_YHHk4',\n",
       " 'net': {'backbone': {'strides': [[2, 2], [2, 2], [2, 1], [2, 1], [1, 1]],\n",
       "   'kernel_sizes': [[2, 2], [2, 2], [2, 1], [2, 1], [1, 1]],\n",
       "   'hidden': 256},\n",
       "  'transformer': {'encoder_hidden': 256,\n",
       "   'decoder_hidden': 256,\n",
       "   'img_channel': 256,\n",
       "   'decoder_embedded': 256,\n",
       "   'dropout': 0.1}},\n",
       " 'optimizer': {'max_lr': 0.001, 'pct_start': 0.1}}"
      ]
     },
     "execution_count": 2,
     "metadata": {},
     "output_type": "execute_result"
    }
   ],
   "source": [
    "config"
   ]
  },
  {
   "cell_type": "code",
   "execution_count": 3,
   "metadata": {},
   "outputs": [
    {
     "name": "stderr",
     "output_type": "stream",
     "text": [
      "/home/misa/.pyenv/versions/3.9.6/lib/python3.9/site-packages/tqdm/auto.py:22: TqdmWarning: IProgress not found. Please update jupyter and ipywidgets. See https://ipywidgets.readthedocs.io/en/stable/user_install.html\n",
      "  from .autonotebook import tqdm as notebook_tqdm\n"
     ]
    },
    {
     "ename": "KeyError",
     "evalue": "'vocab'",
     "output_type": "error",
     "traceback": [
      "\u001b[0;31m---------------------------------------------------------------------------\u001b[0m",
      "\u001b[0;31mKeyError\u001b[0m                                  Traceback (most recent call last)",
      "\u001b[1;32m/home/misa/Documents/KIE-MISA/cv-ext-service/reg_model_test.ipynb Cell 3'\u001b[0m in \u001b[0;36m<cell line: 3>\u001b[0;34m()\u001b[0m\n\u001b[1;32m      <a href='vscode-notebook-cell:/home/misa/Documents/KIE-MISA/cv-ext-service/reg_model_test.ipynb#ch0000002?line=0'>1</a>\u001b[0m \u001b[39mfrom\u001b[39;00m \u001b[39mmodel\u001b[39;00m\u001b[39m.\u001b[39;00m\u001b[39mreg_model\u001b[39;00m \u001b[39mimport\u001b[39;00m RecognizationModel\n\u001b[0;32m----> <a href='vscode-notebook-cell:/home/misa/Documents/KIE-MISA/cv-ext-service/reg_model_test.ipynb#ch0000002?line=2'>3</a>\u001b[0m model \u001b[39m=\u001b[39m RecognizationModel(config\u001b[39m=\u001b[39;49mconfig[\u001b[39m'\u001b[39;49m\u001b[39mnet\u001b[39;49m\u001b[39m'\u001b[39;49m])\n",
      "File \u001b[0;32m~/Documents/KIE-MISA/cv-ext-service/model/reg_model/recognization_model.py:14\u001b[0m, in \u001b[0;36mRecognizationModel.__init__\u001b[0;34m(self, config, **kwargs)\u001b[0m\n\u001b[1;32m     10\u001b[0m \u001b[39mself\u001b[39m\u001b[39m.\u001b[39mbackbone \u001b[39m=\u001b[39m MobileNetv3SM\u001b[39m.\u001b[39mbuild(backbone_cfg)\n\u001b[1;32m     12\u001b[0m transfromer_cfg \u001b[39m=\u001b[39m config[\u001b[39m'\u001b[39m\u001b[39mtransformer\u001b[39m\u001b[39m'\u001b[39m]\n\u001b[0;32m---> 14\u001b[0m vocab \u001b[39m=\u001b[39m Vocab(config[\u001b[39m'\u001b[39;49m\u001b[39mvocab\u001b[39;49m\u001b[39m'\u001b[39;49m][\u001b[39m'\u001b[39m\u001b[39mchars\u001b[39m\u001b[39m'\u001b[39m])\n\u001b[1;32m     15\u001b[0m transfromer_cfg\u001b[39m.\u001b[39mupdate({\u001b[39m'\u001b[39m\u001b[39mvocab_size\u001b[39m\u001b[39m'\u001b[39m : \u001b[39mlen\u001b[39m(vocab)})\n\u001b[1;32m     16\u001b[0m \u001b[39mprint\u001b[39m(transfromer_cfg)\n",
      "\u001b[0;31mKeyError\u001b[0m: 'vocab'"
     ]
    }
   ],
   "source": [
    "from model.reg_model import RecognizationModel\n",
    "\n",
    "model = RecognizationModel(config=config['net'])"
   ]
  },
  {
   "cell_type": "code",
   "execution_count": 8,
   "metadata": {},
   "outputs": [
    {
     "ename": "NameError",
     "evalue": "name 'model' is not defined",
     "output_type": "error",
     "traceback": [
      "\u001b[0;31m---------------------------------------------------------------------------\u001b[0m",
      "\u001b[0;31mNameError\u001b[0m                                 Traceback (most recent call last)",
      "\u001b[1;32m/home/misa/Documents/KIE-MISA/cv-ext-service/reg_model_test.ipynb Cell 4'\u001b[0m in \u001b[0;36m<cell line: 1>\u001b[0;34m()\u001b[0m\n\u001b[0;32m----> <a href='vscode-notebook-cell:/home/misa/Documents/KIE-MISA/cv-ext-service/reg_model_test.ipynb#ch0000003?line=0'>1</a>\u001b[0m model\n",
      "\u001b[0;31mNameError\u001b[0m: name 'model' is not defined"
     ]
    }
   ],
   "source": [
    "model"
   ]
  },
  {
   "cell_type": "code",
   "execution_count": null,
   "metadata": {},
   "outputs": [],
   "source": []
  }
 ],
 "metadata": {
  "kernelspec": {
   "display_name": "Python 3.9.6 64-bit ('3.9.6')",
   "language": "python",
   "name": "python3"
  },
  "language_info": {
   "codemirror_mode": {
    "name": "ipython",
    "version": 3
   },
   "file_extension": ".py",
   "mimetype": "text/x-python",
   "name": "python",
   "nbconvert_exporter": "python",
   "pygments_lexer": "ipython3",
   "version": "3.9.6"
  },
  "orig_nbformat": 4,
  "vscode": {
   "interpreter": {
    "hash": "d4e4137ad0b814463a70bb82d69d83e02df7f59a78ae668a2d36f2270425ea85"
   }
  }
 },
 "nbformat": 4,
 "nbformat_minor": 2
}
